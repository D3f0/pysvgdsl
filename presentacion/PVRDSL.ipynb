{
 "cells": [
  {
   "cell_type": "markdown",
   "metadata": {
    "slideshow": {
     "slide_type": "slide"
    }
   },
   "source": [
    "# Presentación Vectorial mediante DSL Reactivo\n",
    "\n",
    "<a href=\"http://goo.gl/8fB3FW\" title=\"Enlace a la presentación\">\n",
    "<img src=\"images/qr.png\">\n",
    "</a>\n",
    "\n",
    "\n",
    "\n",
    "<div style=\"text-align: right\">\n",
    "Nahuel Defossé\n",
    "</div>"
   ]
  },
  {
   "cell_type": "markdown",
   "metadata": {
    "slideshow": {
     "slide_type": "slide"
    }
   },
   "source": [
    "# Motivación\n",
    "\n",
    " * Grupo de Investigación sobre microcontroladores, protocolos e internet.\n",
    " * Aplicación en Sistema de Monitoreo de Variables Eléctricas para distribuidor local de energía.\n",
    " * Apicación web\n",
    " * Separación de roles\n",
    "     * Desarrollo de hardware y comunicaciones\n",
    "     * Análisis eléctrico del proceso\n",
    "     * Diagramas de estaciones\n",
    "     * Desarollo web\n",
    "     * Desarrollo de protocolos entre microcontroladores y concentradores\n",
    "     "
   ]
  },
  {
   "cell_type": "markdown",
   "metadata": {
    "slideshow": {
     "slide_type": "slide"
    }
   },
   "source": [
    "# Expectativas\n",
    "<img src=\"images/scada.jpg\">"
   ]
  },
  {
   "cell_type": "markdown",
   "metadata": {
    "slideshow": {
     "slide_type": "slide"
    }
   },
   "source": [
    "## Otras expectativas\n",
    "\n",
    " * Envío de mails ante eventos\n",
    " * Envío de SMS\n",
    " \n",
    "<img src=\"images/typical_morning_routine.png\">"
   ]
  },
  {
   "cell_type": "markdown",
   "metadata": {
    "slideshow": {
     "slide_type": "slide"
    }
   },
   "source": [
    "# Problema\n",
    "\n",
    "### ¿Cómo generamos diagramas de estaciones...\n",
    "\n",
    "## que sean fáciles de dinamizar,\n",
    "## de manera no programática,\n",
    "## que puedan ser mostrados en una página web,\n",
    "## que puedan ser mostrados en un dispositivo móvil?"
   ]
  },
  {
   "cell_type": "markdown",
   "metadata": {
    "slideshow": {
     "slide_type": "slide"
    }
   },
   "source": [
    "# Diferencias entre SVG y Canvas\n",
    "\n",
    " * SVG es un lenguaje para describir gráficos 2D en XML\n",
    "\n",
    " * Canvas dibuja gráficos 2D, al vuelo mediante JavaScrtip\n",
    " \n",
    " * SVG está bsasado en XML, lo que significa que cada elemento tiene su correspondiente DOM disponible. Podemos modificarlo mediante JavaScript y agregar reacciones a eventos como \"click\" o \"hover\"\n",
    " \n",
    " * En SVG cada figura en pantalla es un objeto. Cuando los atributos de los objetos son cambiados, el browser automáticamente redibuja la figura. **Cada objeto tiene un ID**\n",
    "\n",
    " * Un Canvas se dibuja pixel por pixel. En un Canvas, una vez dibujado, el navegador se olvida. Si la posición de una figura se debe cambiar, el navegador debe volver a dibujar toda la pantalla.\n"
   ]
  },
  {
   "cell_type": "markdown",
   "metadata": {
    "slideshow": {
     "slide_type": "slide"
    }
   },
   "source": [
    "# SVG\n",
    "\n",
    "\n",
    "## Ejemplo\n"
   ]
  },
  {
   "cell_type": "code",
   "execution_count": 1,
   "metadata": {
    "collapsed": false,
    "slideshow": {
     "slide_type": "-"
    }
   },
   "outputs": [
    {
     "name": "stdout",
     "output_type": "stream",
     "text": [
      "Overwriting images/svg_example.svg\n"
     ]
    }
   ],
   "source": [
    "%%file images/svg_example.svg\n",
    "<?xml version=\"1.0\" encoding=\"UTF-8\" standalone=\"no\"?>\n",
    "<!-- Created with Inkscape (http://www.inkscape.org/) -->\n",
    "\n",
    "<svg\n",
    "   xmlns:dc=\"http://purl.org/dc/elements/1.1/\"\n",
    "   xmlns:cc=\"http://creativecommons.org/ns#\"\n",
    "   xmlns:rdf=\"http://www.w3.org/1999/02/22-rdf-syntax-ns#\"\n",
    "   xmlns:svg=\"http://www.w3.org/2000/svg\"\n",
    "   xmlns=\"http://www.w3.org/2000/svg\"\n",
    "   version=\"1.1\"\n",
    "   width=\"585.2182\"\n",
    "   height=\"258.15625\"\n",
    "   id=\"svg2\">\n",
    "  <defs\n",
    "     id=\"defs4\" />\n",
    "  <metadata\n",
    "     id=\"metadata7\">\n",
    "    <rdf:RDF>\n",
    "      <cc:Work\n",
    "         rdf:about=\"\">\n",
    "        <dc:format>image/svg+xml</dc:format>\n",
    "        <dc:type\n",
    "           rdf:resource=\"http://purl.org/dc/dcmitype/StillImage\" />\n",
    "        <dc:title></dc:title>\n",
    "      </cc:Work>\n",
    "    </rdf:RDF>\n",
    "  </metadata>\n",
    "  <g\n",
    "     transform=\"translate(-79.5,-77.5625)\"\n",
    "     id=\"layer1\">\n",
    "    <rect\n",
    "       width=\"220\"\n",
    "       height=\"108.57143\"\n",
    "       x=\"80\"\n",
    "       y=\"78.076469\"\n",
    "       id=\"rect2985\"\n",
    "       style=\"fill:#ffeeaa;fill-opacity:1;stroke:#000000\" />\n",
    "    <path\n",
    "       d=\"m 194.28571,285.21933 a 45.714287,50 0 1 1 -91.42857,0 45.714287,50 0 1 1 91.42857,0 z\"\n",
    "       id=\"path2991\"\n",
    "       style=\"fill:#ffeeaa;fill-opacity:1;stroke:#000000\" />\n",
    "    <text\n",
    "       x=\"325.71429\"\n",
    "       y=\"315.21933\"\n",
    "       id=\"text2993\"\n",
    "       xml:space=\"preserve\"\n",
    "       style=\"font-size:40px;font-style:normal;font-weight:normal;line-height:125%;letter-spacing:0px;word-spacing:0px;fill:#000000;fill-opacity:1;stroke:none;font-family:Sans\"><tspan\n",
    "         x=\"325.71429\"\n",
    "         y=\"315.21933\"\n",
    "         id=\"tspan2995\">Texto de ejemplo</tspan></text>\n",
    "  </g>\n",
    "</svg>\n"
   ]
  },
  {
   "cell_type": "markdown",
   "metadata": {
    "slideshow": {
     "slide_type": "slide"
    }
   },
   "source": [
    "<img src=\"images/svg_example.svg\">"
   ]
  },
  {
   "cell_type": "markdown",
   "metadata": {
    "slideshow": {
     "slide_type": "slide"
    }
   },
   "source": [
    "# Edición de identificadores con Inkscape\n",
    "\n",
    "<img src=\"images/inkscape_props.png\">"
   ]
  },
  {
   "cell_type": "markdown",
   "metadata": {
    "slideshow": {
     "slide_type": "slide"
    }
   },
   "source": [
    "# Dinamismo\n",
    "\n",
    "## D3\n",
    "<a href=\"http://d3js.org\">\n",
    "<img src=\"images/D3.png\">\n",
    "</a>\n"
   ]
  },
  {
   "cell_type": "markdown",
   "metadata": {
    "slideshow": {
     "slide_type": "slide"
    }
   },
   "source": [
    "# Dinamismo\n",
    "\n",
    "### D3 permite alterar atributos de un gráfico vectorial con facilidad\n",
    "\n",
    "\n",
    "```javascript\n",
    "d3.select('mi_caja').style('bacgkround': 'red');\n",
    "\n",
    "\n",
    "d3.select('text2993').text(\"Nuevo texto\")\n",
    "```"
   ]
  },
  {
   "cell_type": "markdown",
   "metadata": {
    "slideshow": {
     "slide_type": "fragment"
    }
   },
   "source": [
    "### ...pero los datos se generan en un proceso python en el servidor"
   ]
  },
  {
   "cell_type": "markdown",
   "metadata": {
    "slideshow": {
     "slide_type": "slide"
    }
   },
   "source": [
    "### WebSockets!\n",
    "```javascript\n",
    "    var miWebSocket = new WebSocket('http://192.168.0.100/ws')\n",
    "    miWebSocket.onmessage = function (message) {\n",
    "        // En cada mensaje, llega un JSON con un #ID -> {'background': 'red'}\n",
    "        var updates = JSON.parse(message.data);\n",
    "        // Por cada diccionario con lave ID\n",
    "        _.each(updates, function (id, changes) {\n",
    "            var elemento = d3.select(id);\n",
    "            _.each(changes, function (attr, value) {\n",
    "                if (attr === 'text') {\n",
    "                    elemento.text(value)\n",
    "                } else {\n",
    "                    elemento.style(attr, value);\n",
    "                }\n",
    "            }\n",
    "        }\n",
    "    }\n",
    "```\n",
    "\n"
   ]
  },
  {
   "cell_type": "markdown",
   "metadata": {
    "slideshow": {
     "slide_type": "slide"
    }
   },
   "source": [
    "<img src=\"images/jsplzwork.png\">"
   ]
  },
  {
   "cell_type": "markdown",
   "metadata": {
    "slideshow": {
     "slide_type": "slide"
    }
   },
   "source": [
    "# DSL\n",
    "\n",
    "## Lenguaje específico de dominio\n",
    "\n",
    "A diferencia de Python, C o Java, un DSL es un lenguaje concebido para un problema específico. Provee una técnica para eficaz para abordarlo. Ejemplos:\n",
    " * Verilog y VHSIC para hardware\n",
    " * R y S para estadísticas\n",
    " * Mata para programación matricial\n",
    " * Mathematica y Maxima para matemáticas, fórmulas de hojas de cálculo y macros\n",
    " * SQL para consultas a bases de datos relacionales\n",
    " * GraphViz para generar gráficas"
   ]
  },
  {
   "cell_type": "markdown",
   "metadata": {
    "slideshow": {
     "slide_type": "fragment"
    }
   },
   "source": [
    " * La mayoría de los ingenieros son productivos con Excel\n",
    " * y resuelven muchos problemas en función de las capacidades de este software"
   ]
  },
  {
   "cell_type": "markdown",
   "metadata": {
    "slideshow": {
     "slide_type": "slide"
    }
   },
   "source": [
    "<img src=\"images/excel_joke.jpg\">"
   ]
  },
  {
   "cell_type": "markdown",
   "metadata": {
    "slideshow": {
     "slide_type": "slide"
    }
   },
   "source": [
    "# Componentes del DSL\n",
    "\n",
    " * Basado en fórmulas de Excel\n",
    " * Las variables tienen:\n",
    "     * un ámbito de nombres\n",
    "         * DI, AI, EG\n",
    "     * un identificador\n",
    "         * E4CVV_01\n",
    "         * Nomenclatura técnica (Estación 4, Voltaje, Circuito 1)\n",
    "     * Un atributo (varía según el *namespace*)\n",
    "         * Para DI por ejemplo, value y calidad (q)\n",
    "         * Para AI por ejemplo"
   ]
  },
  {
   "cell_type": "markdown",
   "metadata": {
    "slideshow": {
     "slide_type": "fragment"
    }
   },
   "source": [
    "Ejemplo de variable:\n",
    "\n",
    "    ai.E4CVV_01.value"
   ]
  },
  {
   "cell_type": "markdown",
   "metadata": {
    "slideshow": {
     "slide_type": "slide"
    }
   },
   "source": [
    "# Ambito de nombres gráfico\n",
    "\n",
    "Además de los ámbitos de nombres AI (entradas analógicas), DI (entradas digitales), se creó un ámbito de nombres llamado EG (elementos gráficos), donde los identificadores son también identificadores de los archivos SVG.\n",
    "\n",
    "El dibujante cuidadosamente ingresó identificadores significativos en los archivos SVG del sistema que luego son referenciados con meta atributos como *fill*, *stroke* y *text*.\n",
    "\n"
   ]
  },
  {
   "cell_type": "markdown",
   "metadata": {
    "slideshow": {
     "slide_type": "fragment"
    }
   },
   "source": [
    "### Ejemplo\n",
    "\n",
    "    E4CVV_01.fill=SI(ai.E4CVV_01.q,6,10)\n",
    "    E4CVV_01.text=str((ai.E4CVV_01.value-687)*ai.E4CVV_01.escala)\n",
    "    E4CTS201.fill=SI(di.E4CTS201.value,6,3)\n",
    "    E4CTS101.fill=SI(di.E4CTS101.value,6,3)\n",
    "    E4CREC01.fill=SI(di.E4CREC01.value,6,3)\n",
    "    E4CBAR01.stroke=SI(float(eg.E4CVV_01.text)>100,5,3)\n",
    "    E4BREC01.fill=SI(di.E4BREC01.value,6,3)\n",
    "    E4ABAR01.stroke=SI(eg.E4289I01.stroke=2,9,12)\n",
    "    E42VV_00.fill=SI(ai.E42VV_00.q,6,10)\n",
    "    E42VV_00.text=FLOAT((ai.E42VV_00.value-1227)*ai.E42VV_00.escala, 1)\n",
    "\n",
    "Los números corresponden a constantes de colores que se encuentran almacenados en el sistema.\n",
    "    \n",
    "    "
   ]
  },
  {
   "cell_type": "markdown",
   "metadata": {
    "slideshow": {
     "slide_type": "slide"
    }
   },
   "source": [
    "# Contexto\n",
    "\n",
    "```python\n",
    "class ctx(dict):\n",
    "    # La clase real tiene más métodos\n",
    "    __getattr__ = __getitem__\n",
    "\n",
    "contexto = ctx(\n",
    "    AI=ctx(\n",
    "        E4CVV_01 = ctx(\n",
    "            value= 0,\n",
    "            q=1\n",
    "        ),\n",
    "    DI=ctx(\n",
    "        E4CREC01 = ctx(\n",
    "            value = 0,\n",
    "            q = 1\n",
    "        ),\n",
    "    EG=ctx(\n",
    "        E4CVV_01 = ctx(\n",
    "            fill=\"red\",\n",
    "            stroke=\"green\",\n",
    "            text=\"Happy shape\"\n",
    "        )\n",
    ")\n",
    "\n",
    "```\n"
   ]
  },
  {
   "cell_type": "markdown",
   "metadata": {
    "slideshow": {
     "slide_type": "slide"
    }
   },
   "source": [
    "# Evaluación\n",
    "\n",
    "## Poor man's\n",
    "```python\n",
    "def si(cond, t, f):\n",
    "    return t if cond else f\n",
    "context.update(SI=si)\n",
    "eval('eg.E42VV_00.fill=SI(ai.E42VV_00.q,6,10)', context)\n",
    "```\n",
    "## PyParsing\n",
    "\n",
    "Ejemplo en <a href=\"https://github.com/D3f0/txscada/blob/master/src/pysmve/parsing/smve_grammar.py\">Github</a>"
   ]
  },
  {
   "cell_type": "markdown",
   "metadata": {
    "slideshow": {
     "slide_type": "slide"
    }
   },
   "source": [
    "# Variables\n",
    "\n",
    "<img src=\"images/context.svg\">"
   ]
  },
  {
   "cell_type": "markdown",
   "metadata": {
    "slideshow": {
     "slide_type": "slide"
    }
   },
   "source": [
    "# Programación reactiva\n",
    "\n",
    "\n",
    "La programación reactiva se enfoca en flujos de datos y propagación de cambios.\n",
    "Esto implica que debería ser sencillo definir flujos de datos dinámicos o estáticos y que transparentemente los eventos deberían fluir a través del soporte subyacente.\n",
    "\n",
    "Por ejemplo:\n",
    "\n",
    "    a := b + c\n",
    "    \n",
    "Cada vez que el valor b o c cambia, el valor de a es recalculado.\n"
   ]
  },
  {
   "cell_type": "markdown",
   "metadata": {
    "slideshow": {
     "slide_type": "slide"
    }
   },
   "source": [
    "# ReaciveX\n",
    "\n",
    "<a href=\"http://reactivex.io/\"><img src=\"images/rxlogo.png\"></a>\n",
    "ReaciveX es una librería desarrollada por Microsoft para programación reactiva que cuenta con soporte para varios lenguajes:\n",
    " \n",
    " * Python\n",
    " * JavaScript\n",
    " * etc."
   ]
  },
  {
   "cell_type": "markdown",
   "metadata": {
    "slideshow": {
     "slide_type": "slide"
    }
   },
   "source": [
    " # Integración con IPython (WIP)\n",
    " \n",
    " <img src=\"images/pysvgdsl.png\">"
   ]
  },
  {
   "cell_type": "markdown",
   "metadata": {
    "slideshow": {
     "slide_type": "slide"
    }
   },
   "source": [
    "\n",
    "Dentro del <a href=\"https://github.com/D3f0/pysvgdsl\">repositrio de pysvgdsl</a> y quizás con suerte como paquete en PyPI en un futuro cercano se están extrayendo las técnicas desarrolladas en el proyecto para ser utilizadas fuera del contexto del sistema eléctrico.\n",
    "\n",
    " * Carga de SVG\n",
    " * Modificación de atributos desde dentro de IPython"
   ]
  },
  {
   "cell_type": "markdown",
   "metadata": {
    "slideshow": {
     "slide_type": "fragment"
    }
   },
   "source": [
    "### Futuro\n",
    " * Ejecución en webserver sin IPython\n",
    " * Asignación inteligente de atributos\n",
    " * Fallback websockets (corssbar.io)\n",
    " * Ambitos de nombres de variables\n",
    "     * REST POLL\n",
    "     * Firmata (tomar datos desde GPIO de Arduino, Raspberry Pi, Beagle, etc)\n",
    "     * MQTT (Internet of Things)\n",
    "     * OPC UA\n",
    "     \n",
    " * Brython"
   ]
  },
  {
   "cell_type": "markdown",
   "metadata": {
    "slideshow": {
     "slide_type": "slide"
    }
   },
   "source": [
    "# Firmata\n",
    "\n",
    "```python\n",
    "from future_pysvg import context # Not thre yet\n",
    "# Definition of the analog pin\n",
    "PINS = (0, 1, 2, 3)\n",
    "# Creates a new board \n",
    "board = pyfirmata.Arduino(/dev/ttyACM0)\n",
    "\n",
    "print \"Setting up the connection to the board ...\"\n",
    "it = pyfirmata.util.Iterator(board)\n",
    "it.start()\n",
    " \n",
    "# Start reporting for defined pins\n",
    "for pin in PINS:\n",
    "    board.analog[pin].enable_reporting()\n",
    " \n",
    "# Loop for reading the input. Duration approx. 10 s\n",
    "for i in range(1, 11):\n",
    "    print \"\\nValues after %i second(s)\" % i\n",
    "    for pin in PINS:\n",
    "        value = board.analog[pin].read()\n",
    "        context.ai['DUINO_PIN_%d' % pin].value = value\n",
    "    board.pass_time(1)\n",
    " \n",
    "board.exit()\n",
    "```\n",
    "\n"
   ]
  },
  {
   "cell_type": "markdown",
   "metadata": {
    "slideshow": {
     "slide_type": "slide"
    }
   },
   "source": [
    "# ¿Preguntas?"
   ]
  },
  {
   "cell_type": "markdown",
   "metadata": {},
   "source": [
    "# Gracias!\n",
    "\n",
    "https://github.com/D3f0/pysvgdsl\n",
    "\n",
    "En twitter @d3f0 @diegomvh"
   ]
  }
 ],
 "metadata": {
  "celltoolbar": "Slideshow",
  "kernelspec": {
   "display_name": "Python 2",
   "language": "python",
   "name": "python2"
  },
  "language_info": {
   "codemirror_mode": {
    "name": "ipython",
    "version": 2
   },
   "file_extension": ".py",
   "mimetype": "text/x-python",
   "name": "python",
   "nbconvert_exporter": "python",
   "pygments_lexer": "ipython2",
   "version": "2.7.6"
  }
 },
 "nbformat": 4,
 "nbformat_minor": 0
}
