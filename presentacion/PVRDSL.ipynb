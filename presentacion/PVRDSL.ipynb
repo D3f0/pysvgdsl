{
 "cells": [
  {
   "cell_type": "markdown",
   "metadata": {
    "slideshow": {
     "slide_type": "slide"
    }
   },
   "source": [
    "# Presentación Vectorial mediante DSL Reactivo\n",
    "\n",
    "\n",
    "\n",
    "\n",
    "\n",
    "\n",
    "<div style=\"text-align: right\">\n",
    "Nahuel Defossé\n",
    "</div>"
   ]
  },
  {
   "cell_type": "markdown",
   "metadata": {
    "slideshow": {
     "slide_type": "slide"
    }
   },
   "source": [
    "# Motivación\n",
    "\n",
    " * Grupo de Investigación sobre microcontroladores, protocolos e internet.\n",
    " * Aplicación en Sistema de Monitoreo de Variables Eléctricas para distribuidor local de energía.\n",
    " * Apicación web\n",
    " * Separación de roles\n",
    "     * Desarrollo de hardware y comunicaciones\n",
    "     * Análisis eléctrico del proceso\n",
    "     * Diagramas de estaciones\n",
    "     * Desarollo web\n",
    "     * Desarrollo de protocolos entre microcontroladores y concentradores\n",
    "     "
   ]
  },
  {
   "cell_type": "markdown",
   "metadata": {
    "slideshow": {
     "slide_type": "slide"
    }
   },
   "source": [
    "# Expectativas\n",
    "<img src=\"images/scada.jpg\">"
   ]
  },
  {
   "cell_type": "markdown",
   "metadata": {
    "slideshow": {
     "slide_type": "slide"
    }
   },
   "source": [
    "# Problema\n",
    "\n",
    "### ¿Cómo generamos diagramas de estaciones...\n",
    "\n",
    "## que sean fáciles de dinamizar,\n",
    "## de manera no programática,\n",
    "## que puedan ser mostrados en una página web \n",
    "## que puedan ser mostrados en un dispositivo móvil\n",
    "###?"
   ]
  },
  {
   "cell_type": "markdown",
   "metadata": {
    "slideshow": {
     "slide_type": "slide"
    }
   },
   "source": [
    "# Diferencias entre SVG y Canvas\n",
    "\n",
    " * SVG es un leguaje para describir gráficos 2D en XML\n",
    "\n",
    " * Canvas dibuja gráficos 2D, al vuelo mediante JavaScrtip\n",
    " \n",
    " * SVG está bsaados en XML, lo que significa que cada elemento tiene su correspondiente DOM disponible. Podemos modificarlo mediante JavaScript y agregar reacciones a venetos como \"click\" o \"hover\"\n",
    " \n",
    " * En SVG cada figura en pantalla es un objeto. Cuando los atributos de los objetos son cambiados, el browser automáticamente redibuja la figura. **Cada objeto tiene un ID**\n",
    "\n",
    " * Un Canvas se dibuja pixel por pixel. En un Canvas, una vez dibujado, el navegador se olvida. Si la posición de una figura se debe cambiar, el navegador debe volver a dibujar toda la pantalla.\n"
   ]
  },
  {
   "cell_type": "markdown",
   "metadata": {
    "slideshow": {
     "slide_type": "slide"
    }
   },
   "source": [
    "# SVG\n",
    "\n",
    "\n",
    "## Ejemplo\n"
   ]
  },
  {
   "cell_type": "code",
   "execution_count": 1,
   "metadata": {
    "collapsed": false,
    "slideshow": {
     "slide_type": "-"
    }
   },
   "outputs": [
    {
     "name": "stdout",
     "output_type": "stream",
     "text": [
      "Overwriting images/svg_example.svg\n"
     ]
    }
   ],
   "source": [
    "%%file images/svg_example.svg\n",
    "<?xml version=\"1.0\" encoding=\"UTF-8\" standalone=\"no\"?>\n",
    "<!-- Created with Inkscape (http://www.inkscape.org/) -->\n",
    "\n",
    "<svg\n",
    "   xmlns:dc=\"http://purl.org/dc/elements/1.1/\"\n",
    "   xmlns:cc=\"http://creativecommons.org/ns#\"\n",
    "   xmlns:rdf=\"http://www.w3.org/1999/02/22-rdf-syntax-ns#\"\n",
    "   xmlns:svg=\"http://www.w3.org/2000/svg\"\n",
    "   xmlns=\"http://www.w3.org/2000/svg\"\n",
    "   version=\"1.1\"\n",
    "   width=\"585.2182\"\n",
    "   height=\"258.15625\"\n",
    "   id=\"svg2\">\n",
    "  <defs\n",
    "     id=\"defs4\" />\n",
    "  <metadata\n",
    "     id=\"metadata7\">\n",
    "    <rdf:RDF>\n",
    "      <cc:Work\n",
    "         rdf:about=\"\">\n",
    "        <dc:format>image/svg+xml</dc:format>\n",
    "        <dc:type\n",
    "           rdf:resource=\"http://purl.org/dc/dcmitype/StillImage\" />\n",
    "        <dc:title></dc:title>\n",
    "      </cc:Work>\n",
    "    </rdf:RDF>\n",
    "  </metadata>\n",
    "  <g\n",
    "     transform=\"translate(-79.5,-77.5625)\"\n",
    "     id=\"layer1\">\n",
    "    <rect\n",
    "       width=\"220\"\n",
    "       height=\"108.57143\"\n",
    "       x=\"80\"\n",
    "       y=\"78.076469\"\n",
    "       id=\"rect2985\"\n",
    "       style=\"fill:#ffeeaa;fill-opacity:1;stroke:#000000\" />\n",
    "    <path\n",
    "       d=\"m 194.28571,285.21933 a 45.714287,50 0 1 1 -91.42857,0 45.714287,50 0 1 1 91.42857,0 z\"\n",
    "       id=\"path2991\"\n",
    "       style=\"fill:#ffeeaa;fill-opacity:1;stroke:#000000\" />\n",
    "    <text\n",
    "       x=\"325.71429\"\n",
    "       y=\"315.21933\"\n",
    "       id=\"text2993\"\n",
    "       xml:space=\"preserve\"\n",
    "       style=\"font-size:40px;font-style:normal;font-weight:normal;line-height:125%;letter-spacing:0px;word-spacing:0px;fill:#000000;fill-opacity:1;stroke:none;font-family:Sans\"><tspan\n",
    "         x=\"325.71429\"\n",
    "         y=\"315.21933\"\n",
    "         id=\"tspan2995\">Texto de ejemplo</tspan></text>\n",
    "  </g>\n",
    "</svg>\n"
   ]
  },
  {
   "cell_type": "markdown",
   "metadata": {
    "slideshow": {
     "slide_type": "slide"
    }
   },
   "source": [
    "<img src=\"images/svg_example.svg\">"
   ]
  },
  {
   "cell_type": "markdown",
   "metadata": {
    "slideshow": {
     "slide_type": "slide"
    }
   },
   "source": [
    "# Dinamismo\n",
    "\n",
    "## D3\n",
    "\n",
    "<img src=\"images/D3.png\">\n"
   ]
  },
  {
   "cell_type": "markdown",
   "metadata": {
    "slideshow": {
     "slide_type": "slide"
    }
   },
   "source": [
    "# Dinamismo\n",
    "\n",
    "### D3 permite alterar atributos de un gráfico vectorial con facilidad\n",
    "```javascript\n",
    "d3.select('mi_caja').style('bacgkround': 'red')\n",
    "```"
   ]
  },
  {
   "cell_type": "markdown",
   "metadata": {
    "slideshow": {
     "slide_type": "fragment"
    }
   },
   "source": [
    "### ...pero los datos se generan en un proceso python en el servidor"
   ]
  },
  {
   "cell_type": "markdown",
   "metadata": {
    "slideshow": {
     "slide_type": "fragment"
    }
   },
   "source": [
    "### WebSockets!\n",
    "```javascript\n",
    "    var miWebSocket = new WebSocket('http://192.168.0.100/ws')\n",
    "    miWebSocket.onmessage = function (message) {\n",
    "        // En cada mensaje, llega un JSON con un #ID -> {'background': 'red'}\n",
    "        var updates = JSON.parse(message.data);\n",
    "        // Por cada diccionario con lave ID\n",
    "        _.each(updates, function (id, changes) {\n",
    "            var elemento = d3.select(id);\n",
    "            _.each(changes, function (attr, value) {\n",
    "                if (attr === 'text') {\n",
    "                    elemento.text(value)\n",
    "                } else {\n",
    "                    elemento.style(attr, value);\n",
    "                }\n",
    "            }\n",
    "        }\n",
    "    }\n",
    "```\n",
    "\n"
   ]
  },
  {
   "cell_type": "markdown",
   "metadata": {
    "slideshow": {
     "slide_type": "slide"
    }
   },
   "source": [
    "<img src=\"images/jsplzwork.png\">"
   ]
  },
  {
   "cell_type": "markdown",
   "metadata": {
    "slideshow": {
     "slide_type": "slide"
    }
   },
   "source": [
    "# DSL\n",
    "\n",
    "## Lenguaje específico de dominio\n",
    "\n",
    "A diferencia de Python, C o Java, un DSL es un lenguaje concevido para un problema específico. Provee una técninca para eficáz para abordarlo. Ejemplos:\n",
    " * Verilog y VHSIC para hardwre\n",
    " * R y S para estadísticas\n",
    " * Mata para programación matricial\n",
    " * Mathematica y Maxima para matemáticas, fórmulas de hojas de cálculo y macros\n",
    " * SQL para consultas a bases de datos relacionales\n",
    " * GraphViz para generar gráficas"
   ]
  },
  {
   "cell_type": "markdown",
   "metadata": {
    "slideshow": {
     "slide_type": "fragment"
    }
   },
   "source": [
    " * La mayoría de los ingenieros son proficientes con Excel\n",
    " * y resuelven muchos problemas en función de las capacidades de este software"
   ]
  },
  {
   "cell_type": "markdown",
   "metadata": {
    "slideshow": {
     "slide_type": "slide"
    }
   },
   "source": [
    "<img src=\"images/excel_joke.jpg\">"
   ]
  },
  {
   "cell_type": "markdown",
   "metadata": {
    "slideshow": {
     "slide_type": "slide"
    }
   },
   "source": [
    "# Componentes del DSL\n",
    "\n",
    " * Basado en formulas de Excel\n",
    " * Las variables tienen:\n",
    "     * un ámbito de nombres\n",
    "         * DI, AI, EG\n",
    "     * un identificador\n",
    "         * E4CVV_01\n",
    "         * Nomenclatura técninca (Estación 4, Volateje, Circuito 1)\n",
    "     * Un atributo (varía según el *namespace*)\n",
    "         * Para DI por ejemplo, value y calidad (q)\n",
    "         * Para AI por ejemplo"
   ]
  },
  {
   "cell_type": "markdown",
   "metadata": {
    "slideshow": {
     "slide_type": "fragment"
    }
   },
   "source": [
    "Ejemplo de variable:\n",
    "\n",
    "    ai.E4CVV_01.value"
   ]
  },
  {
   "cell_type": "markdown",
   "metadata": {
    "slideshow": {
     "slide_type": "slide"
    }
   },
   "source": [
    "# Ambito de nombres gráfico\n",
    "\n",
    "Además de los ámbitos de nombres AI (entrada anlógicas), DI (entradas digitales), se creó un ambito de nombres llamado EG (elementos gráficos), dónde los identificadores son también identificadores de los arvhivos SVG.\n",
    "\n",
    "El dibujante cuidadosamente ingresó identificadores significativos en los archivo SVG del sistema que luego son referenciados con meta atributos como *fill*, *stroke* y *text*.\n",
    "\n"
   ]
  },
  {
   "cell_type": "markdown",
   "metadata": {
    "slideshow": {
     "slide_type": "fragment"
    }
   },
   "source": [
    "### Ejemplo\n",
    "\n",
    "    E4CVV_01.fill=SI(ai.E4CVV_01.q,6,10)\n",
    "    E4CVV_01.text=str((ai.E4CVV_01.value-687)*ai.E4CVV_01.escala)\n",
    "    E4CTS201.fill=SI(di.E4CTS201.value,6,3)\n",
    "    E4CTS101.fill=SI(di.E4CTS101.value,6,3)\n",
    "    E4CREC01.fill=SI(di.E4CREC01.value,6,3)\n",
    "    E4CBAR01.stroke=SI(float(eg.E4CVV_01.text)>100,5,3)\n",
    "    E4BREC01.fill=SI(di.E4BREC01.value,6,3)\n",
    "    E4ABAR01.stroke=SI(eg.E4289I01.stroke=2,9,12)\n",
    "    E42VV_00.fill=SI(ai.E42VV_00.q,6,10)\n",
    "    E42VV_00.text=FLOAT((ai.E42VV_00.value-1227)*ai.E42VV_00.escala, 1)\n",
    "\n",
    "Los números corresonden a constantes de colores que se encuentran almacenados en el sistema.\n",
    "    \n",
    "    "
   ]
  },
  {
   "cell_type": "markdown",
   "metadata": {
    "slideshow": {
     "slide_type": "slide"
    }
   },
   "source": [
    "# Variables\n",
    "\n",
    "<img src=\"images/context.svg\">"
   ]
  },
  {
   "cell_type": "markdown",
   "metadata": {
    "slideshow": {
     "slide_type": "slide"
    }
   },
   "source": [
    "# Programación reactiva"
   ]
  },
  {
   "cell_type": "code",
   "execution_count": null,
   "metadata": {
    "collapsed": true
   },
   "outputs": [],
   "source": []
  }
 ],
 "metadata": {
  "celltoolbar": "Slideshow",
  "kernelspec": {
   "display_name": "Python 2",
   "language": "python",
   "name": "python2"
  },
  "language_info": {
   "codemirror_mode": {
    "name": "ipython",
    "version": 2
   },
   "file_extension": ".py",
   "mimetype": "text/x-python",
   "name": "python",
   "nbconvert_exporter": "python",
   "pygments_lexer": "ipython2",
   "version": "2.7.6"
  }
 },
 "nbformat": 4,
 "nbformat_minor": 0
}
