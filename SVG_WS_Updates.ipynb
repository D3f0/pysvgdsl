{
 "cells": [
  {
   "cell_type": "code",
   "execution_count": 1,
   "metadata": {
    "collapsed": false
   },
   "outputs": [
    {
     "name": "stdout",
     "output_type": "stream",
     "text": [
      "6543\n"
     ]
    },
    {
     "name": "stderr",
     "output_type": "stream",
     "text": [
      "        <script type=\"text/javascript\">\n",
      "                require.config({\n",
      "                    paths: {\n",
      "                        d3: 'http://localhost:6543/static/d3',\n",
      "                        dynsvg: 'http://localhost:6543/static/dynsvg'\n",
      "                    },\n",
      "                    // Bust cache\n",
      "                    urlArgs: \"bust=\" + (new Date()).getTime()\n",
      "                });\n",
      "                require(['d3', 'dynsvg'], function (d3, dynsvg) {\n",
      "                    dynsvg.makeConnection('ws://localhost:6543/ws', '#svg-47496-1');\n",
      "\n",
      "                }, function (err) {\n",
      "                    console.error(\"Error\", err);\n",
      "                });\n",
      "            </script>\n",
      "        "
     ]
    },
    {
     "data": {
      "text/html": [
       "\n",
       "            <!-- Created with Inkscape (http://www.inkscape.org/) --><svg xmlns:dc=\"http://purl.org/dc/elements/1.1/\" xmlns:cc=\"http://creativecommons.org/ns#\" xmlns:rdf=\"http://www.w3.org/1999/02/22-rdf-syntax-ns#\" xmlns:svg=\"http://www.w3.org/2000/svg\" xmlns=\"http://www.w3.org/2000/svg\" xmlns:sodipodi=\"http://sodipodi.sourceforge.net/DTD/sodipodi-0.dtd\" xmlns:inkscape=\"http://www.inkscape.org/namespaces/inkscape\" width=\"574.28571\" height=\"328.57144\" id=\"svg-47496-1\" version=\"1.1\" inkscape:version=\"0.48.5 r10040\" sodipodi:docname=\"example.svg\">\n",
       "  <defs id=\"defs4\"/>\n",
       "  <sodipodi:namedview id=\"base\" pagecolor=\"#ffffff\" bordercolor=\"#666666\" borderopacity=\"1.0\" inkscape:pageopacity=\"0.0\" inkscape:pageshadow=\"2\" inkscape:zoom=\"0.98994949\" inkscape:cx=\"364.28571\" inkscape:cy=\"109.80418\" inkscape:document-units=\"px\" inkscape:current-layer=\"layer1\" showgrid=\"false\" fit-margin-top=\"0\" fit-margin-left=\"0\" fit-margin-right=\"0\" fit-margin-bottom=\"0\" inkscape:window-width=\"1280\" inkscape:window-height=\"713\" inkscape:window-x=\"0\" inkscape:window-y=\"0\" inkscape:window-maximized=\"1\"/>\n",
       "  <metadata id=\"metadata7\">\n",
       "    <rdf:RDF>\n",
       "      <cc:Work rdf:about=\"\">\n",
       "        <dc:format>image/svg+xml</dc:format>\n",
       "        <dc:type rdf:resource=\"http://purl.org/dc/dcmitype/StillImage\"/>\n",
       "        <dc:title/>\n",
       "      </cc:Work>\n",
       "    </rdf:RDF>\n",
       "  </metadata>\n",
       "  <g inkscape:label=\"Capa 1\" inkscape:groupmode=\"layer\" id=\"layer1\" transform=\"translate(-100,-18.076471)\">\n",
       "    <rect id=\"rect1\" width=\"574.28571\" height=\"328.57144\" x=\"100\" y=\"18.076471\" style=\"fill:#800000\"/>\n",
       "    <rect id=\"rect2\" width=\"217.14285\" height=\"122.85714\" x=\"437.14285\" y=\"186.6479\" style=\"fill:#d35f5f\"/>\n",
       "    <rect id=\"rect3\" width=\"160\" height=\"71.428574\" x=\"391.42856\" y=\"23.790754\" style=\"fill:#c83737\"/>\n",
       "    <path sodipodi:type=\"arc\" style=\"fill:#ff0000;fill-opacity:1;stroke:#000000\" id=\"path2985\" sodipodi:cx=\"153.54318\" sodipodi:cy=\"201.7973\" sodipodi:rx=\"93.944183\" sodipodi:ry=\"90.408653\" d=\"m 247.48737,201.7973 a 93.944183,90.408653 0 1 1 -187.888371,0 93.944183,90.408653 0 1 1 187.888371,0 z\" transform=\"translate(100,18.076471)\"/>\n",
       "    <path sodipodi:type=\"arc\" style=\"fill:#000000;fill-opacity:1;stroke:#000000\" id=\"path2987\" sodipodi:cx=\"115.66247\" sodipodi:cy=\"185.12978\" sodipodi:rx=\"17.67767\" sodipodi:ry=\"21.213203\" d=\"m 133.34014,185.12978 a 17.67767,21.213203 0 1 1 -35.355342,0 17.67767,21.213203 0 1 1 35.355342,0 z\" transform=\"translate(100,18.076471)\"/>\n",
       "    <path sodipodi:type=\"arc\" style=\"fill:#000000;fill-opacity:1;stroke:#000000\" id=\"path2989\" sodipodi:cx=\"185.86807\" sodipodi:cy=\"189.17039\" sodipodi:rx=\"18.182745\" sodipodi:ry=\"18.182745\" d=\"m 204.05082,189.17039 a 18.182745,18.182745 0 1 1 -36.36549,0 18.182745,18.182745 0 1 1 36.36549,0 z\" transform=\"translate(100,18.076471)\"/>\n",
       "    <path style=\"fill:#e3dbdb;fill-opacity:1;stroke:#000000;stroke-width:0.44258204\" d=\"m 210.97114,263.36879 c 1.08249,9.81619 19.25348,17.6203 41.51973,17.6203 21.88652,0 39.81709,-7.54253 41.45058,-17.12239 -6.91067,6.13856 -22.76637,10.42834 -41.22929,10.42834 -18.94819,0 -35.13612,-4.52854 -41.74102,-10.92625 z\" id=\"path2991\" inkscape:connector-curvature=\"0\"/>\n",
       "  </g>\n",
       "</svg>\n",
       "            <script type=\"text/javascript\">\n",
       "                require.config({\n",
       "                    paths: {\n",
       "                        d3: 'http://localhost:6543/static/d3',\n",
       "                        dynsvg: 'http://localhost:6543/static/dynsvg'\n",
       "                    },\n",
       "                    // Bust cache\n",
       "                    urlArgs: \"bust=\" + (new Date()).getTime()\n",
       "                });\n",
       "                require(['d3', 'dynsvg'], function (d3, dynsvg) {\n",
       "                    dynsvg.makeConnection('ws://localhost:6543/ws', '#svg-47496-1');\n",
       "\n",
       "                }, function (err) {\n",
       "                    console.error(\"Error\", err);\n",
       "                });\n",
       "            </script>\n",
       "        "
      ],
      "text/plain": [
       "<IPython.core.display.HTML object>"
      ]
     },
     "execution_count": 1,
     "metadata": {},
     "output_type": "execute_result"
    }
   ],
   "source": [
    "from api import load_svg\n",
    "svg = load_svg('./svgs/example.svg')\n",
    "svg.display()"
   ]
  },
  {
   "cell_type": "code",
   "execution_count": 2,
   "metadata": {
    "collapsed": false
   },
   "outputs": [
    {
     "data": {
      "text/plain": [
       "<Response [200]>"
      ]
     },
     "execution_count": 2,
     "metadata": {},
     "output_type": "execute_result"
    }
   ],
   "source": [
    "svg.update('a',  {'color': 'red'})"
   ]
  },
  {
   "cell_type": "code",
   "execution_count": null,
   "metadata": {
    "collapsed": true
   },
   "outputs": [],
   "source": []
  }
 ],
 "metadata": {
  "kernelspec": {
   "display_name": "Python 2",
   "language": "python",
   "name": "python2"
  },
  "language_info": {
   "codemirror_mode": {
    "name": "ipython",
    "version": 2
   },
   "file_extension": ".py",
   "mimetype": "text/x-python",
   "name": "python",
   "nbconvert_exporter": "python",
   "pygments_lexer": "ipython2",
   "version": "2.7.6"
  }
 },
 "nbformat": 4,
 "nbformat_minor": 0
}
